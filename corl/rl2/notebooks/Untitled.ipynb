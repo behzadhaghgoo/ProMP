{
 "cells": [
  {
   "cell_type": "code",
   "execution_count": 121,
   "metadata": {},
   "outputs": [],
   "source": [
    "import csv\n",
    "from pathlib import Path\n",
    "\n",
    "import numpy as np\n",
    "from matplotlib import pyplot as plt\n",
    "import csv"
   ]
  },
  {
   "cell_type": "code",
   "execution_count": 122,
   "metadata": {},
   "outputs": [],
   "source": [
    "LOG_FILE = Path('../../../data/rl2/test_reach_0_0.5488135039273248/log2.txt')"
   ]
  },
  {
   "cell_type": "code",
   "execution_count": 123,
   "metadata": {},
   "outputs": [],
   "source": [
    "headers = [\n",
    "    'Itr',\n",
    "    'ItrTime',\n",
    "    'LossAfter', \n",
    "    'LossBefore',\n",
    "    'Time',\n",
    "    'Time-Optimization',\n",
    "    'Time-SampleProc',\n",
    "    'Time-Sampling',\n",
    "    'n_timesteps',\n",
    "    'train-AverageDiscoun...',\n",
    "    'train-AveragePolicyStd',\n",
    "    'train-AverageReturn',\n",
    "    'train-EnvExecTime',\n",
    "    'train-MaxReturn',\n",
    "    'train-MinReturn',\n",
    "    'train-NumTrajs',\n",
    "    'train-PolicyExecTime',\n",
    "    'train-StdReturn',\n",
    "]"
   ]
  },
  {
   "cell_type": "code",
   "execution_count": 124,
   "metadata": {},
   "outputs": [],
   "source": [
    "progress = []\n",
    "with open(LOG_FILE, 'r') as log:\n",
    "    in_table = False\n",
    "    for l in log:\n",
    "        if '-------------------------------------------' in l:\n",
    "            if not in_table:\n",
    "                in_table = True\n",
    "                progress.append({})\n",
    "            else:\n",
    "                assert len(progress[-1]) == len(headers)\n",
    "                in_table = False\n",
    "            \n",
    "            continue\n",
    "        \n",
    "        if in_table:           \n",
    "            entry = l.split('|')\n",
    "            entry = [e.strip() for e in entry]\n",
    "            entry = [e for e in entry if e]\n",
    "            assert entry[0] in headers\n",
    "            progress[-1][entry[0]] = entry[1]\n",
    "    \n",
    "    assert in_table == False"
   ]
  },
  {
   "cell_type": "code",
   "execution_count": 125,
   "metadata": {},
   "outputs": [
    {
     "data": {
      "text/plain": [
       "163"
      ]
     },
     "execution_count": 125,
     "metadata": {},
     "output_type": "execute_result"
    }
   ],
   "source": [
    "len(progress)"
   ]
  },
  {
   "cell_type": "code",
   "execution_count": null,
   "metadata": {},
   "outputs": [],
   "source": []
  }
 ],
 "metadata": {
  "kernelspec": {
   "display_name": "Python 3",
   "language": "python",
   "name": "python3"
  },
  "language_info": {
   "codemirror_mode": {
    "name": "ipython",
    "version": 3
   },
   "file_extension": ".py",
   "mimetype": "text/x-python",
   "name": "python",
   "nbconvert_exporter": "python",
   "pygments_lexer": "ipython3",
   "version": "3.6.7"
  }
 },
 "nbformat": 4,
 "nbformat_minor": 2
}
